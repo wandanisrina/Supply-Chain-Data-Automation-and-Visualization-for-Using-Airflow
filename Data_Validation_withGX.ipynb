{
 "cells": [
  {
   "cell_type": "markdown",
   "id": "be938631",
   "metadata": {},
   "source": [
    "# A. Introduction"
   ]
  },
  {
   "cell_type": "markdown",
   "id": "54431edc",
   "metadata": {},
   "source": [
    "To ensure data quality, a systematic and automatable data validation process is required. One of flexible open-source tools for data validation is **Great Expectations (GE)**.\n",
    "\n",
    "In this notebook, cleaned dataset will be validated using 7 expectations. The expected results for all expectation have to **true**. "
   ]
  },
  {
   "cell_type": "markdown",
   "id": "2bc060d2",
   "metadata": {},
   "source": [
    "# B. Import Libraries"
   ]
  },
  {
   "cell_type": "code",
   "execution_count": 1,
   "id": "d3cac3ac",
   "metadata": {},
   "outputs": [],
   "source": [
    "import pandas as pd\n",
    "import numpy as np\n",
    "import great_expectations as gx\n",
    "from great_expectations.data_context import FileDataContext"
   ]
  },
  {
   "cell_type": "markdown",
   "id": "654fba5a",
   "metadata": {},
   "source": [
    "# C. Dataset Loading"
   ]
  },
  {
   "cell_type": "markdown",
   "id": "5d3e6477",
   "metadata": {},
   "source": [
    "## i. Instantiate Data Context"
   ]
  },
  {
   "cell_type": "code",
   "execution_count": 2,
   "id": "9bb9b0fa",
   "metadata": {},
   "outputs": [],
   "source": [
    "context = FileDataContext.create(project_root_dir='./')"
   ]
  },
  {
   "cell_type": "markdown",
   "id": "848d31e6",
   "metadata": {},
   "source": [
    "## ii. Connect to `Datasource`"
   ]
  },
  {
   "cell_type": "code",
   "execution_count": null,
   "id": "6f4d7967",
   "metadata": {},
   "outputs": [],
   "source": [
    "# Give a name to a Datasource. This name must be unique between Datasources.\n",
    "datasource_name = 'csv-datasource_SCM'\n",
    "datasource = context.sources.add_pandas(datasource_name)\n",
    "\n",
    "# Give a name to a data asset\n",
    "asset_name = 'SCMS_delivery_data'\n",
    "path_to_data = \"D:\\PORTFOLIO PROJECT\\Supply-Chain-Data-Automation-and-Visualization-for-Using-Airflow\\data\\data_clean.csv\"\n",
    "asset = datasource.add_csv_asset(asset_name, filepath_or_buffer=path_to_data)\n",
    "\n",
    "# Build batch request\n",
    "batch_request = asset.build_batch_request()"
   ]
  },
  {
   "cell_type": "markdown",
   "id": "9dc5bfa5",
   "metadata": {},
   "source": [
    "## iii. Create an Expectation Suite"
   ]
  },
  {
   "cell_type": "code",
   "execution_count": 6,
   "id": "301f0053",
   "metadata": {},
   "outputs": [
    {
     "data": {
      "application/vnd.jupyter.widget-view+json": {
       "model_id": "ff9dff00d727427ebeeb178a21421b71",
       "version_major": 2,
       "version_minor": 0
      },
      "text/plain": [
       "Calculating Metrics:   0%|          | 0/1 [00:00<?, ?it/s]"
      ]
     },
     "metadata": {},
     "output_type": "display_data"
    },
    {
     "data": {
      "text/html": [
       "<div>\n",
       "<style scoped>\n",
       "    .dataframe tbody tr th:only-of-type {\n",
       "        vertical-align: middle;\n",
       "    }\n",
       "\n",
       "    .dataframe tbody tr th {\n",
       "        vertical-align: top;\n",
       "    }\n",
       "\n",
       "    .dataframe thead th {\n",
       "        text-align: right;\n",
       "    }\n",
       "</style>\n",
       "<table border=\"1\" class=\"dataframe\">\n",
       "  <thead>\n",
       "    <tr style=\"text-align: right;\">\n",
       "      <th></th>\n",
       "      <th>unnamed_0</th>\n",
       "      <th>id</th>\n",
       "      <th>project_code</th>\n",
       "      <th>pq</th>\n",
       "      <th>po_so</th>\n",
       "      <th>asn_dn</th>\n",
       "      <th>country</th>\n",
       "      <th>managed_by</th>\n",
       "      <th>fulfill_via</th>\n",
       "      <th>vendor_inco_term</th>\n",
       "      <th>...</th>\n",
       "      <th>unit_of_measure_per_pack</th>\n",
       "      <th>line_item_quantity</th>\n",
       "      <th>line_item_value</th>\n",
       "      <th>pack_price</th>\n",
       "      <th>unit_price</th>\n",
       "      <th>manufacturing_site</th>\n",
       "      <th>first_line_designation</th>\n",
       "      <th>weight_kilograms</th>\n",
       "      <th>freight_cost_usd</th>\n",
       "      <th>line_item_insurance_usd</th>\n",
       "    </tr>\n",
       "  </thead>\n",
       "  <tbody>\n",
       "    <tr>\n",
       "      <th>0</th>\n",
       "      <td>0</td>\n",
       "      <td>1</td>\n",
       "      <td>100-CI-T01</td>\n",
       "      <td>Pre-PQ Process</td>\n",
       "      <td>SCMS-4</td>\n",
       "      <td>ASN-8</td>\n",
       "      <td>Côte d'Ivoire</td>\n",
       "      <td>PMO - US</td>\n",
       "      <td>Direct Drop</td>\n",
       "      <td>EXW</td>\n",
       "      <td>...</td>\n",
       "      <td>30</td>\n",
       "      <td>19</td>\n",
       "      <td>551.0</td>\n",
       "      <td>29.00</td>\n",
       "      <td>0.97</td>\n",
       "      <td>Ranbaxy Fine Chemicals LTD</td>\n",
       "      <td>True</td>\n",
       "      <td>13.0</td>\n",
       "      <td>780.34</td>\n",
       "      <td>0.0</td>\n",
       "    </tr>\n",
       "    <tr>\n",
       "      <th>1</th>\n",
       "      <td>1</td>\n",
       "      <td>3</td>\n",
       "      <td>108-VN-T01</td>\n",
       "      <td>Pre-PQ Process</td>\n",
       "      <td>SCMS-13</td>\n",
       "      <td>ASN-85</td>\n",
       "      <td>Vietnam</td>\n",
       "      <td>PMO - US</td>\n",
       "      <td>Direct Drop</td>\n",
       "      <td>EXW</td>\n",
       "      <td>...</td>\n",
       "      <td>240</td>\n",
       "      <td>1000</td>\n",
       "      <td>6200.0</td>\n",
       "      <td>6.20</td>\n",
       "      <td>0.03</td>\n",
       "      <td>Aurobindo Unit III, India</td>\n",
       "      <td>True</td>\n",
       "      <td>358.0</td>\n",
       "      <td>4521.50</td>\n",
       "      <td>0.0</td>\n",
       "    </tr>\n",
       "    <tr>\n",
       "      <th>2</th>\n",
       "      <td>2</td>\n",
       "      <td>4</td>\n",
       "      <td>100-CI-T01</td>\n",
       "      <td>Pre-PQ Process</td>\n",
       "      <td>SCMS-20</td>\n",
       "      <td>ASN-14</td>\n",
       "      <td>Côte d'Ivoire</td>\n",
       "      <td>PMO - US</td>\n",
       "      <td>Direct Drop</td>\n",
       "      <td>FCA</td>\n",
       "      <td>...</td>\n",
       "      <td>100</td>\n",
       "      <td>500</td>\n",
       "      <td>40000.0</td>\n",
       "      <td>80.00</td>\n",
       "      <td>0.80</td>\n",
       "      <td>ABBVIE GmbH &amp; Co.KG Wiesbaden</td>\n",
       "      <td>True</td>\n",
       "      <td>171.0</td>\n",
       "      <td>1653.78</td>\n",
       "      <td>0.0</td>\n",
       "    </tr>\n",
       "    <tr>\n",
       "      <th>3</th>\n",
       "      <td>3</td>\n",
       "      <td>15</td>\n",
       "      <td>108-VN-T01</td>\n",
       "      <td>Pre-PQ Process</td>\n",
       "      <td>SCMS-78</td>\n",
       "      <td>ASN-50</td>\n",
       "      <td>Vietnam</td>\n",
       "      <td>PMO - US</td>\n",
       "      <td>Direct Drop</td>\n",
       "      <td>EXW</td>\n",
       "      <td>...</td>\n",
       "      <td>60</td>\n",
       "      <td>31920</td>\n",
       "      <td>127360.8</td>\n",
       "      <td>3.99</td>\n",
       "      <td>0.07</td>\n",
       "      <td>Ranbaxy, Paonta Shahib, India</td>\n",
       "      <td>True</td>\n",
       "      <td>1855.0</td>\n",
       "      <td>16007.06</td>\n",
       "      <td>0.0</td>\n",
       "    </tr>\n",
       "    <tr>\n",
       "      <th>4</th>\n",
       "      <td>4</td>\n",
       "      <td>16</td>\n",
       "      <td>108-VN-T01</td>\n",
       "      <td>Pre-PQ Process</td>\n",
       "      <td>SCMS-81</td>\n",
       "      <td>ASN-55</td>\n",
       "      <td>Vietnam</td>\n",
       "      <td>PMO - US</td>\n",
       "      <td>Direct Drop</td>\n",
       "      <td>EXW</td>\n",
       "      <td>...</td>\n",
       "      <td>60</td>\n",
       "      <td>38000</td>\n",
       "      <td>121600.0</td>\n",
       "      <td>3.20</td>\n",
       "      <td>0.05</td>\n",
       "      <td>Aurobindo Unit III, India</td>\n",
       "      <td>True</td>\n",
       "      <td>7590.0</td>\n",
       "      <td>45450.08</td>\n",
       "      <td>0.0</td>\n",
       "    </tr>\n",
       "  </tbody>\n",
       "</table>\n",
       "<p>5 rows × 34 columns</p>\n",
       "</div>"
      ],
      "text/plain": [
       "   unnamed_0  id project_code              pq    po_so  asn_dn        country  \\\n",
       "0          0   1   100-CI-T01  Pre-PQ Process   SCMS-4   ASN-8  Côte d'Ivoire   \n",
       "1          1   3   108-VN-T01  Pre-PQ Process  SCMS-13  ASN-85        Vietnam   \n",
       "2          2   4   100-CI-T01  Pre-PQ Process  SCMS-20  ASN-14  Côte d'Ivoire   \n",
       "3          3  15   108-VN-T01  Pre-PQ Process  SCMS-78  ASN-50        Vietnam   \n",
       "4          4  16   108-VN-T01  Pre-PQ Process  SCMS-81  ASN-55        Vietnam   \n",
       "\n",
       "  managed_by  fulfill_via vendor_inco_term  ... unit_of_measure_per_pack  \\\n",
       "0   PMO - US  Direct Drop              EXW  ...                       30   \n",
       "1   PMO - US  Direct Drop              EXW  ...                      240   \n",
       "2   PMO - US  Direct Drop              FCA  ...                      100   \n",
       "3   PMO - US  Direct Drop              EXW  ...                       60   \n",
       "4   PMO - US  Direct Drop              EXW  ...                       60   \n",
       "\n",
       "  line_item_quantity line_item_value pack_price unit_price  \\\n",
       "0                 19           551.0      29.00       0.97   \n",
       "1               1000          6200.0       6.20       0.03   \n",
       "2                500         40000.0      80.00       0.80   \n",
       "3              31920        127360.8       3.99       0.07   \n",
       "4              38000        121600.0       3.20       0.05   \n",
       "\n",
       "              manufacturing_site first_line_designation weight_kilograms  \\\n",
       "0     Ranbaxy Fine Chemicals LTD                   True             13.0   \n",
       "1      Aurobindo Unit III, India                   True            358.0   \n",
       "2  ABBVIE GmbH & Co.KG Wiesbaden                   True            171.0   \n",
       "3  Ranbaxy, Paonta Shahib, India                   True           1855.0   \n",
       "4      Aurobindo Unit III, India                   True           7590.0   \n",
       "\n",
       "  freight_cost_usd line_item_insurance_usd  \n",
       "0           780.34                     0.0  \n",
       "1          4521.50                     0.0  \n",
       "2          1653.78                     0.0  \n",
       "3         16007.06                     0.0  \n",
       "4         45450.08                     0.0  \n",
       "\n",
       "[5 rows x 34 columns]"
      ]
     },
     "execution_count": 6,
     "metadata": {},
     "output_type": "execute_result"
    }
   ],
   "source": [
    "# Creat an expectation suite\n",
    "expectation_suite_name = 'expectation-SCMS-delivery-dataset'\n",
    "context.add_or_update_expectation_suite(expectation_suite_name)\n",
    "\n",
    "# Create a validator using above expectation suite\n",
    "validator = context.get_validator(\n",
    "    batch_request = batch_request,\n",
    "    expectation_suite_name = expectation_suite_name\n",
    ")\n",
    "\n",
    "# Check the validator\n",
    "validator.head()"
   ]
  },
  {
   "cell_type": "markdown",
   "id": "a19ef7f9",
   "metadata": {},
   "source": [
    "# D. Create Expectations"
   ]
  },
  {
   "cell_type": "markdown",
   "id": "4b5c50be",
   "metadata": {},
   "source": [
    "## i. Expectation 1 : To Be Unique"
   ]
  },
  {
   "cell_type": "markdown",
   "id": "7189c955",
   "metadata": {},
   "source": [
    "In this expectation, we have to validate ID delivery must contain unique value. Because every ID has different datas of delivery, so it has to be unique."
   ]
  },
  {
   "cell_type": "code",
   "execution_count": 7,
   "id": "27aba6d2",
   "metadata": {},
   "outputs": [
    {
     "data": {
      "application/vnd.jupyter.widget-view+json": {
       "model_id": "681bfa85ba9843aba4013de90070c3be",
       "version_major": 2,
       "version_minor": 0
      },
      "text/plain": [
       "Calculating Metrics:   0%|          | 0/8 [00:00<?, ?it/s]"
      ]
     },
     "metadata": {},
     "output_type": "display_data"
    },
    {
     "data": {
      "text/plain": [
       "{\n",
       "  \"success\": true,\n",
       "  \"result\": {\n",
       "    \"element_count\": 10324,\n",
       "    \"unexpected_count\": 0,\n",
       "    \"unexpected_percent\": 0.0,\n",
       "    \"partial_unexpected_list\": [],\n",
       "    \"missing_count\": 0,\n",
       "    \"missing_percent\": 0.0,\n",
       "    \"unexpected_percent_total\": 0.0,\n",
       "    \"unexpected_percent_nonmissing\": 0.0\n",
       "  },\n",
       "  \"meta\": {},\n",
       "  \"exception_info\": {\n",
       "    \"raised_exception\": false,\n",
       "    \"exception_traceback\": null,\n",
       "    \"exception_message\": null\n",
       "  }\n",
       "}"
      ]
     },
     "execution_count": 7,
     "metadata": {},
     "output_type": "execute_result"
    }
   ],
   "source": [
    "validator.expect_column_values_to_be_unique('id')"
   ]
  },
  {
   "cell_type": "markdown",
   "id": "b7468fb6",
   "metadata": {},
   "source": [
    "## ii. Expectation 2 : To Be Between Min Value and Max Value"
   ]
  },
  {
   "cell_type": "code",
   "execution_count": 8,
   "id": "e4b26517",
   "metadata": {},
   "outputs": [
    {
     "data": {
      "application/vnd.jupyter.widget-view+json": {
       "model_id": "e03425dab7d14dc292f7ddbbb9a3490c",
       "version_major": 2,
       "version_minor": 0
      },
      "text/plain": [
       "Calculating Metrics:   0%|          | 0/8 [00:00<?, ?it/s]"
      ]
     },
     "metadata": {},
     "output_type": "display_data"
    },
    {
     "data": {
      "text/plain": [
       "{\n",
       "  \"success\": true,\n",
       "  \"result\": {\n",
       "    \"element_count\": 10324,\n",
       "    \"unexpected_count\": 0,\n",
       "    \"unexpected_percent\": 0.0,\n",
       "    \"partial_unexpected_list\": [],\n",
       "    \"missing_count\": 0,\n",
       "    \"missing_percent\": 0.0,\n",
       "    \"unexpected_percent_total\": 0.0,\n",
       "    \"unexpected_percent_nonmissing\": 0.0\n",
       "  },\n",
       "  \"meta\": {},\n",
       "  \"exception_info\": {\n",
       "    \"raised_exception\": false,\n",
       "    \"exception_traceback\": null,\n",
       "    \"exception_message\": null\n",
       "  }\n",
       "}"
      ]
     },
     "execution_count": 8,
     "metadata": {},
     "output_type": "execute_result"
    }
   ],
   "source": [
    "#Expectation 2a : Column `line_item_quantity` must be more than 1 quantity\n",
    "validator.expect_column_values_to_be_between(\n",
    "    column='line_item_quantity', min_value=1\n",
    ")"
   ]
  },
  {
   "cell_type": "markdown",
   "id": "962ab88e",
   "metadata": {},
   "source": [
    "This expectation is to ensure that all items ordered must be minimum 1 pcs."
   ]
  },
  {
   "cell_type": "code",
   "execution_count": 9,
   "id": "2d6a4cf0",
   "metadata": {},
   "outputs": [
    {
     "data": {
      "application/vnd.jupyter.widget-view+json": {
       "model_id": "48c93e4404e847e2a4c01710c77adab5",
       "version_major": 2,
       "version_minor": 0
      },
      "text/plain": [
       "Calculating Metrics:   0%|          | 0/8 [00:00<?, ?it/s]"
      ]
     },
     "metadata": {},
     "output_type": "display_data"
    },
    {
     "data": {
      "text/plain": [
       "{\n",
       "  \"success\": true,\n",
       "  \"result\": {\n",
       "    \"element_count\": 10324,\n",
       "    \"unexpected_count\": 0,\n",
       "    \"unexpected_percent\": 0.0,\n",
       "    \"partial_unexpected_list\": [],\n",
       "    \"missing_count\": 0,\n",
       "    \"missing_percent\": 0.0,\n",
       "    \"unexpected_percent_total\": 0.0,\n",
       "    \"unexpected_percent_nonmissing\": 0.0\n",
       "  },\n",
       "  \"meta\": {},\n",
       "  \"exception_info\": {\n",
       "    \"raised_exception\": false,\n",
       "    \"exception_traceback\": null,\n",
       "    \"exception_message\": null\n",
       "  }\n",
       "}"
      ]
     },
     "execution_count": 9,
     "metadata": {},
     "output_type": "execute_result"
    }
   ],
   "source": [
    "#Expectation 2b : Column `freight_cost_usd` must be less tah $300,000 per one shipment\n",
    "validator.expect_column_values_to_be_between(\n",
    "    column='freight_cost_usd', min_value=0, max_value=300_000\n",
    ")"
   ]
  },
  {
   "cell_type": "markdown",
   "id": "1b6eb654",
   "metadata": {},
   "source": [
    "This expectation is to ensure that freight cost for all delivery is not more than $300.000 USD per one shipment. This value is the maximum budget from the company."
   ]
  },
  {
   "cell_type": "markdown",
   "id": "46032c29",
   "metadata": {},
   "source": [
    "## iii. Expectation 3 : To Be in Set"
   ]
  },
  {
   "cell_type": "code",
   "execution_count": 10,
   "id": "4a942635",
   "metadata": {},
   "outputs": [
    {
     "data": {
      "application/vnd.jupyter.widget-view+json": {
       "model_id": "c84a559f2ba54453850cc8d2e3ab938a",
       "version_major": 2,
       "version_minor": 0
      },
      "text/plain": [
       "Calculating Metrics:   0%|          | 0/8 [00:00<?, ?it/s]"
      ]
     },
     "metadata": {},
     "output_type": "display_data"
    },
    {
     "data": {
      "text/plain": [
       "{\n",
       "  \"success\": true,\n",
       "  \"result\": {\n",
       "    \"element_count\": 10324,\n",
       "    \"unexpected_count\": 0,\n",
       "    \"unexpected_percent\": 0.0,\n",
       "    \"partial_unexpected_list\": [],\n",
       "    \"missing_count\": 0,\n",
       "    \"missing_percent\": 0.0,\n",
       "    \"unexpected_percent_total\": 0.0,\n",
       "    \"unexpected_percent_nonmissing\": 0.0\n",
       "  },\n",
       "  \"meta\": {},\n",
       "  \"exception_info\": {\n",
       "    \"raised_exception\": false,\n",
       "    \"exception_traceback\": null,\n",
       "    \"exception_message\": null\n",
       "  }\n",
       "}"
      ]
     },
     "execution_count": 10,
     "metadata": {},
     "output_type": "execute_result"
    }
   ],
   "source": [
    "#Expectation 3a : Column `shipment_mode` must contain specific values\n",
    "\n",
    "validator.expect_column_values_to_be_in_set(\n",
    "    'shipment_mode',\n",
    "    [\"Air\", \"Air Charter\", \"Truck\", \"Ocean\"]\n",
    ")"
   ]
  },
  {
   "cell_type": "markdown",
   "id": "9ced04d4",
   "metadata": {},
   "source": [
    "This expectation is to ensure that shipment mode will use only 4 modes that company usually use: Air, Air charter, Truck, and Ocean (via Ship)"
   ]
  },
  {
   "cell_type": "code",
   "execution_count": 11,
   "id": "d4d28d39",
   "metadata": {},
   "outputs": [
    {
     "data": {
      "application/vnd.jupyter.widget-view+json": {
       "model_id": "41d2da45807e48909ec3a974bef9e5a5",
       "version_major": 2,
       "version_minor": 0
      },
      "text/plain": [
       "Calculating Metrics:   0%|          | 0/8 [00:00<?, ?it/s]"
      ]
     },
     "metadata": {},
     "output_type": "display_data"
    },
    {
     "data": {
      "text/plain": [
       "{\n",
       "  \"success\": true,\n",
       "  \"result\": {\n",
       "    \"element_count\": 10324,\n",
       "    \"unexpected_count\": 0,\n",
       "    \"unexpected_percent\": 0.0,\n",
       "    \"partial_unexpected_list\": [],\n",
       "    \"missing_count\": 0,\n",
       "    \"missing_percent\": 0.0,\n",
       "    \"unexpected_percent_total\": 0.0,\n",
       "    \"unexpected_percent_nonmissing\": 0.0\n",
       "  },\n",
       "  \"meta\": {},\n",
       "  \"exception_info\": {\n",
       "    \"raised_exception\": false,\n",
       "    \"exception_traceback\": null,\n",
       "    \"exception_message\": null\n",
       "  }\n",
       "}"
      ]
     },
     "execution_count": 11,
     "metadata": {},
     "output_type": "execute_result"
    }
   ],
   "source": [
    "#Expectation 3b : Column `product_group` must contain specific values\n",
    "\n",
    "validator.expect_column_values_to_be_in_set(\n",
    "    'product_group',\n",
    "    [\"ACT\", \"ANTM\", \"ARV\", \"HRDT\", \"MRDT\"]\n",
    ")"
   ]
  },
  {
   "cell_type": "markdown",
   "id": "ed9656fd",
   "metadata": {},
   "source": [
    "Since this projects are doing delivery of pharmaceutical products mainly for antivirus and antimalarial, so this expectation is to ensure products that will be delivered belong to one of these product class:\n",
    "- ACT = Artemisinin-based Combination Therapy (for Malaria)\n",
    "- ANTM = Antimalaria\n",
    "- ARV = Antiretroviral\n",
    "- HRDT = HIV Rapid Diagnostic Test\n",
    "- MRDT = Malaria Rapid Diagnostic Test"
   ]
  },
  {
   "cell_type": "markdown",
   "id": "d1186db9",
   "metadata": {},
   "source": [
    "## iv. Expectation 4 : To Be in Type List"
   ]
  },
  {
   "cell_type": "code",
   "execution_count": 12,
   "id": "01b1f4f7",
   "metadata": {},
   "outputs": [
    {
     "data": {
      "application/vnd.jupyter.widget-view+json": {
       "model_id": "41c57e386abb4a2eb5046c994836b437",
       "version_major": 2,
       "version_minor": 0
      },
      "text/plain": [
       "Calculating Metrics:   0%|          | 0/1 [00:00<?, ?it/s]"
      ]
     },
     "metadata": {},
     "output_type": "display_data"
    },
    {
     "data": {
      "text/plain": [
       "{\n",
       "  \"success\": true,\n",
       "  \"result\": {\n",
       "    \"observed_value\": \"bool_\"\n",
       "  },\n",
       "  \"meta\": {},\n",
       "  \"exception_info\": {\n",
       "    \"raised_exception\": false,\n",
       "    \"exception_traceback\": null,\n",
       "    \"exception_message\": null\n",
       "  }\n",
       "}"
      ]
     },
     "execution_count": 12,
     "metadata": {},
     "output_type": "execute_result"
    }
   ],
   "source": [
    "# Expectation 4a : Column `first_line_designation` must in form of boolean\n",
    "\n",
    "validator.expect_column_values_to_be_in_type_list('first_line_designation', ['bool'])"
   ]
  },
  {
   "cell_type": "markdown",
   "id": "df8992ff",
   "metadata": {},
   "source": [
    "This expectation is to ensure that first line designation column is boolean type because it only contain true/false."
   ]
  },
  {
   "cell_type": "code",
   "execution_count": 13,
   "id": "cf3b46c3",
   "metadata": {},
   "outputs": [
    {
     "data": {
      "application/vnd.jupyter.widget-view+json": {
       "model_id": "b84a8a8752a746a984920e7eb2313ccc",
       "version_major": 2,
       "version_minor": 0
      },
      "text/plain": [
       "Calculating Metrics:   0%|          | 0/1 [00:00<?, ?it/s]"
      ]
     },
     "metadata": {},
     "output_type": "display_data"
    },
    {
     "data": {
      "text/plain": [
       "{\n",
       "  \"success\": true,\n",
       "  \"result\": {\n",
       "    \"observed_value\": \"float64\"\n",
       "  },\n",
       "  \"meta\": {},\n",
       "  \"exception_info\": {\n",
       "    \"raised_exception\": false,\n",
       "    \"exception_traceback\": null,\n",
       "    \"exception_message\": null\n",
       "  }\n",
       "}"
      ]
     },
     "execution_count": 13,
     "metadata": {},
     "output_type": "execute_result"
    }
   ],
   "source": [
    "# Expectation 4b : Column `unit_price` must in form of float or integer\n",
    "\n",
    "validator.expect_column_values_to_be_in_type_list('unit_price', ['float', 'int'])"
   ]
  },
  {
   "cell_type": "markdown",
   "id": "716394e7",
   "metadata": {},
   "source": [
    "This expectation is to ensure unit price column is float or integer since this column contains price value."
   ]
  },
  {
   "cell_type": "markdown",
   "id": "f1d09290",
   "metadata": {},
   "source": [
    "## v. Expectation 5 : Pair Values A To Be Greater Than B"
   ]
  },
  {
   "cell_type": "code",
   "execution_count": 14,
   "id": "93da82bb",
   "metadata": {},
   "outputs": [
    {
     "data": {
      "application/vnd.jupyter.widget-view+json": {
       "model_id": "ff7a21c6674e4c369d1b56e83725cae4",
       "version_major": 2,
       "version_minor": 0
      },
      "text/plain": [
       "Calculating Metrics:   0%|          | 0/7 [00:00<?, ?it/s]"
      ]
     },
     "metadata": {},
     "output_type": "display_data"
    },
    {
     "data": {
      "text/plain": [
       "{\n",
       "  \"success\": true,\n",
       "  \"result\": {\n",
       "    \"element_count\": 10324,\n",
       "    \"unexpected_count\": 0,\n",
       "    \"unexpected_percent\": 0.0,\n",
       "    \"partial_unexpected_list\": [],\n",
       "    \"missing_count\": 0,\n",
       "    \"missing_percent\": 0.0,\n",
       "    \"unexpected_percent_total\": 0.0,\n",
       "    \"unexpected_percent_nonmissing\": 0.0\n",
       "  },\n",
       "  \"meta\": {},\n",
       "  \"exception_info\": {\n",
       "    \"raised_exception\": false,\n",
       "    \"exception_traceback\": null,\n",
       "    \"exception_message\": null\n",
       "  }\n",
       "}"
      ]
     },
     "execution_count": 14,
     "metadata": {},
     "output_type": "execute_result"
    }
   ],
   "source": [
    "#Expectation 5 : Column `line_item_value` must be more than column `pack_price`\n",
    "validator.expect_column_pair_values_a_to_be_greater_than_b(\n",
    "    column_A=\"line_item_value\",\n",
    "    column_B=\"pack_price\",\n",
    "    or_equal=True\n",
    ")"
   ]
  },
  {
   "cell_type": "markdown",
   "id": "b9d5e4fe",
   "metadata": {},
   "source": [
    "This expectation is to ensure that column 'line_item_value' must be greater than 'pack_price' because column 'line_item_value' is the total price of the products meanwhile column 'pack_price' is product price per packs."
   ]
  },
  {
   "cell_type": "markdown",
   "id": "1c7d3522",
   "metadata": {},
   "source": [
    "## vi. Expectation 6 : Most Common Value To Be In Set"
   ]
  },
  {
   "cell_type": "code",
   "execution_count": 15,
   "id": "f029581b",
   "metadata": {},
   "outputs": [
    {
     "data": {
      "application/vnd.jupyter.widget-view+json": {
       "model_id": "b2302a2b3408409eb8bb8900e64439d2",
       "version_major": 2,
       "version_minor": 0
      },
      "text/plain": [
       "Calculating Metrics:   0%|          | 0/4 [00:00<?, ?it/s]"
      ]
     },
     "metadata": {},
     "output_type": "display_data"
    },
    {
     "data": {
      "text/plain": [
       "{\n",
       "  \"success\": true,\n",
       "  \"result\": {\n",
       "    \"observed_value\": [\n",
       "      \"PMO - US\"\n",
       "    ]\n",
       "  },\n",
       "  \"meta\": {},\n",
       "  \"exception_info\": {\n",
       "    \"raised_exception\": false,\n",
       "    \"exception_traceback\": null,\n",
       "    \"exception_message\": null\n",
       "  }\n",
       "}"
      ]
     },
     "execution_count": 15,
     "metadata": {},
     "output_type": "execute_result"
    }
   ],
   "source": [
    "#Expectation 6 : Ensure \"PMO - US\" is the most common value from column `managed_by`\n",
    "validator.expect_column_most_common_value_to_be_in_set(\n",
    "    column=\"managed_by\",\n",
    "    value_set= [\"PMO - US\"],\n",
    "    ties_okay=True\n",
    ")"
   ]
  },
  {
   "cell_type": "markdown",
   "id": "b7c228df",
   "metadata": {},
   "source": [
    "This expectation is to ensure that all the projects mostly are handled by the company partners which is \"PMO - US\" or Project Management Office in the USA."
   ]
  },
  {
   "cell_type": "markdown",
   "id": "82f6b213",
   "metadata": {},
   "source": [
    "## vii. Expectation 7 : Values To Match Regex"
   ]
  },
  {
   "cell_type": "code",
   "execution_count": 16,
   "id": "62b1258e",
   "metadata": {},
   "outputs": [
    {
     "data": {
      "application/vnd.jupyter.widget-view+json": {
       "model_id": "26d8eefb19c04ed0a7975173f451af6f",
       "version_major": 2,
       "version_minor": 0
      },
      "text/plain": [
       "Calculating Metrics:   0%|          | 0/8 [00:00<?, ?it/s]"
      ]
     },
     "metadata": {},
     "output_type": "display_data"
    },
    {
     "data": {
      "text/plain": [
       "{\n",
       "  \"success\": true,\n",
       "  \"result\": {\n",
       "    \"element_count\": 10324,\n",
       "    \"unexpected_count\": 0,\n",
       "    \"unexpected_percent\": 0.0,\n",
       "    \"partial_unexpected_list\": [],\n",
       "    \"missing_count\": 0,\n",
       "    \"missing_percent\": 0.0,\n",
       "    \"unexpected_percent_total\": 0.0,\n",
       "    \"unexpected_percent_nonmissing\": 0.0\n",
       "  },\n",
       "  \"meta\": {},\n",
       "  \"exception_info\": {\n",
       "    \"raised_exception\": false,\n",
       "    \"exception_traceback\": null,\n",
       "    \"exception_message\": null\n",
       "  }\n",
       "}"
      ]
     },
     "execution_count": 16,
     "metadata": {},
     "output_type": "execute_result"
    }
   ],
   "source": [
    "# Expectation 7 : Column `asn_dn` must match a regex pattern by containing \"ASN\" or \"DN\"\n",
    "validator.expect_column_values_to_match_regex(\n",
    "    column=\"asn_dn\",\n",
    "    regex=\".*(ASN|DN).*\"\n",
    ")"
   ]
  },
  {
   "cell_type": "markdown",
   "id": "4fce2912",
   "metadata": {},
   "source": [
    "This expectation is to ensure that column 'ASN/DN' is contain word ASN or DN because it marked the code of Advance Shipping Notice or Debit Note"
   ]
  },
  {
   "cell_type": "markdown",
   "id": "27dc4589",
   "metadata": {},
   "source": [
    "# E. Create Checkpoint"
   ]
  },
  {
   "cell_type": "code",
   "execution_count": 17,
   "id": "0c9216da",
   "metadata": {},
   "outputs": [],
   "source": [
    "# Save into Expectation Suite\n",
    "\n",
    "validator.save_expectation_suite(discard_failed_expectations=False)"
   ]
  },
  {
   "cell_type": "code",
   "execution_count": 18,
   "id": "a54af5ef",
   "metadata": {},
   "outputs": [],
   "source": [
    "# Create a checkpoint\n",
    "\n",
    "checkpoint = context.add_or_update_checkpoint(\n",
    "    name = 'checkpoint_SCMS_delivery_data',\n",
    "    validator = validator,\n",
    ")"
   ]
  },
  {
   "cell_type": "code",
   "execution_count": 19,
   "id": "695dce0e",
   "metadata": {},
   "outputs": [
    {
     "data": {
      "application/vnd.jupyter.widget-view+json": {
       "model_id": "a6b7d90aec1846008e092ca9a35193ee",
       "version_major": 2,
       "version_minor": 0
      },
      "text/plain": [
       "Calculating Metrics:   0%|          | 0/52 [00:00<?, ?it/s]"
      ]
     },
     "metadata": {},
     "output_type": "display_data"
    }
   ],
   "source": [
    "# Run a checkpoint\n",
    "\n",
    "checkpoint_result = checkpoint.run()"
   ]
  },
  {
   "cell_type": "code",
   "execution_count": 20,
   "id": "f6ae5569",
   "metadata": {},
   "outputs": [
    {
     "data": {
      "text/plain": [
       "{'local_site': 'file://d:\\\\HACKTIV 8 FTDS\\\\FTDS PHASE 2\\\\MILESTONE\\\\p2-ftds027-hck-m3-wandanisrina\\\\gx\\\\uncommitted/data_docs/local_site/index.html'}"
      ]
     },
     "execution_count": 20,
     "metadata": {},
     "output_type": "execute_result"
    }
   ],
   "source": [
    "# Build data docs\n",
    "\n",
    "context.build_data_docs()"
   ]
  },
  {
   "cell_type": "markdown",
   "id": "116dcb6c",
   "metadata": {},
   "source": [
    "# F. Conclusion"
   ]
  },
  {
   "cell_type": "markdown",
   "id": "94690e68",
   "metadata": {},
   "source": [
    "After cleaned dataset validated using 7 expectations, all the outcomes are **true**. \n",
    "\n",
    "This validation can also be used to other similar dataset (that have same columns). Furthermore, another data that will be taken on different period can be validated using this validation since it already saved on the checkpoint."
   ]
  }
 ],
 "metadata": {
  "kernelspec": {
   "display_name": "ge-env",
   "language": "python",
   "name": "python3"
  },
  "language_info": {
   "codemirror_mode": {
    "name": "ipython",
    "version": 3
   },
   "file_extension": ".py",
   "mimetype": "text/x-python",
   "name": "python",
   "nbconvert_exporter": "python",
   "pygments_lexer": "ipython3",
   "version": "3.10.18"
  }
 },
 "nbformat": 4,
 "nbformat_minor": 5
}
